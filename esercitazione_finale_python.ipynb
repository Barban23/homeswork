{
 "cells": [
  {
   "cell_type": "code",
   "execution_count": null,
   "metadata": {},
   "outputs": [],
   "source": [
    "\"\"\"L'esercizio è mirato a prendere confidenza con l'analisi dati in Python e in particolare con tutte le strutture dati viste, le funzioni e i costrutti principali.\n",
    "Per eseguire l'esercizio è preferibile utilizzare come tool di programmazione Jupyter Lab, Jupyter Notebook o Colaboratory: in alternativa si potranno utilizzare IDE\n",
    "quali PyCharm oppure Spyder.\n",
    "Analisi diffusione COVID-19 nel mondo\n",
    "Il committente richiede di avere un report su casi e vaccinazioni in diverse aree del mondo; a tal fine, richiede di utilizzare il dataset, curato da Our World in Data, \n",
    "all'indirizzo https://github.com/owid/covid-19-data/tree/master/public/data; alla voce\n",
    "Downioad our complete COVID-19 dataset\" scaricare il dataset in formato CSV oppure in formato JSON.\n",
    "• Si richiede di verificare le dimensioni del dataset e le diciture presenti nell'intestazione.\n",
    "• Si chiede poi per ogni continente di trovare il numero di casi totali avvenuti in quello stesso continente;\n",
    "si chiede di non considerare eventuali locazioni che nel dataset non appartengono ad alcun continente.\n",
    "• Sempre riguardo i casi di COVID totali, si chiede di sviluppare una funzione che prenda in input il dataset e due nomi di continenti, e che ne confronti i seguenti relativi descrittori statistici:\n",
    "valori minimo e massimo, media, e percentuale rispetto al numero dei casi totali nel mondo (in questo caso calcolati anche sulle locazioni senza indicazione di continente).\n",
    "• Si chiede poi di effettuare lo stesso tipo di analisi - anche in questo caso sviluppando una funzione ad hoc - per il numero di vaccinazioni totali per ogni continente.\n",
    "• Alla fine, basandosi sui calcoli fatti, il committente chiede di stilare un breve (tre o quattro righe) paragrafo testuale riassuntivo sulle statistiche di casi e vaccinazioni,\n",
    "che si concentri solo sulle differenze esistenti tra Europa, Sud America e Oceania.\n",
    "Per effettuare le analisi si potranno usare, a scelta, strumenti come funzioni e strutture dati built-in quali open. (), liste, dizionari;\n",
    "moduli built-in quali cav o json; moduli esteri quali Pandas e i relativi metodi e tipi di dato.\"\"\""
   ]
  },
  {
   "cell_type": "code",
   "execution_count": null,
   "metadata": {},
   "outputs": [],
   "source": [
    "import pandas as pd             #Abbiamo importato Pandas\n"
   ]
  },
  {
   "cell_type": "code",
   "execution_count": null,
   "metadata": {},
   "outputs": [],
   "source": [
    "coviddata = pd.read_csv(\"owid-covid-data.csv\")                  #Abbiamo assegnato una variabile per la ettura del dataset"
   ]
  },
  {
   "cell_type": "code",
   "execution_count": null,
   "metadata": {},
   "outputs": [],
   "source": [
    "num_righe, num_colonne = coviddata.shape                                            #Abbiamo asseggnato una variabile per determinare le dimensioni del Dataset, e abbiamo fatto una print costruita per renderla leggibile\n",
    "print(f'Dimensioni del dataset: {num_righe} righe x {num_colonne} colonne')"
   ]
  },
  {
   "cell_type": "code",
   "execution_count": null,
   "metadata": {},
   "outputs": [],
   "source": [
    "intestazione = coviddata.head()                 #Abbiamo assegnato una variabile per determinare le prime 5 righe del dataset, comprese di intestazione, e abbiamo printato la variabile\n",
    "print(intestazione)"
   ]
  },
  {
   "cell_type": "code",
   "execution_count": null,
   "metadata": {},
   "outputs": [],
   "source": [
    "casi_per_continente = coviddata.groupby('continent')['total_cases'].sum()   #Con la variabile casi_per_continente, abbiamo calcolato i casi totali raggruppati per continente\n",
    "casi_per_continente = casi_per_continente[casi_per_continente.index != 'N/D']\n",
    "print(casi_per_continente)"
   ]
  },
  {
   "cell_type": "code",
   "execution_count": null,
   "metadata": {},
   "outputs": [],
   "source": [
    "def confronta_descrittori(dataset, continente1, continente2, continente3):\n",
    "    # Calcola il numero totale di casi nel mondo (inclusi quelli senza continente)\n",
    "    casi_totali_mondo = coviddata['total_cases'].sum()\n",
    "    \n",
    "    # Filtra il dataset per i casi dei due continenti specificati\n",
    "    casi_continente1 = coviddata[coviddata['continent'] == continente1]['total_cases'].sum()\n",
    "    casi_continente2 = coviddata[coviddata['continent'] == continente2]['total_cases'].sum()\n",
    "    casi_continente3 = coviddata[coviddata['continent'] == continente3]['total_cases'].sum()\n",
    "    \n",
    "    # Calcola i descrittori statistici\n",
    "    minimo_continente1 = coviddata[coviddata['continent'] == continente1]['total_cases'].min()\n",
    "    massimo_continente1 = coviddata[coviddata['continent'] == continente1]['total_cases'].max()\n",
    "    media_continente1 = coviddata[coviddata['continent'] == continente1]['total_cases'].mean()\n",
    "    percentuale_continente1 = (casi_continente1 / casi_totali_mondo) * 100\n",
    "    \n",
    "    minimo_continente2 = coviddata[coviddata['continent'] == continente2]['total_cases'].min()\n",
    "    massimo_continente2 = coviddata[coviddata['continent'] == continente2]['total_cases'].max()\n",
    "    media_continente2 = coviddata[coviddata['continent'] == continente2]['total_cases'].mean()\n",
    "    percentuale_continente2 = (casi_continente2 / casi_totali_mondo) * 100\n",
    "\n",
    "    minimo_continente3 = coviddata[coviddata['continent'] == continente3]['total_cases'].min()\n",
    "    massimo_continente3 = coviddata[coviddata['continent'] == continente3]['total_cases'].max()\n",
    "    media_continente3 = coviddata[coviddata['continent'] == continente3]['total_cases'].mean()\n",
    "    percentuale_continente3 = (casi_continente3 / casi_totali_mondo) * 100\n",
    "    \n",
    "    # Crea un dizionario con i risultati\n",
    "    risultati = {\n",
    "        f\"Minimo {continente1}\": minimo_continente1,\n",
    "        f\"Massimo {continente1}\": massimo_continente1,\n",
    "        f\"Media {continente1}\": media_continente1,\n",
    "        f\"Percentuale {continente1} rispetto al mondo\": percentuale_continente1,\n",
    "        f\"Minimo {continente2}\": minimo_continente2,\n",
    "        f\"Massimo {continente2}\": massimo_continente2,\n",
    "        f\"Media {continente2}\": media_continente2,\n",
    "        f\"Percentuale {continente2} rispetto al mondo\": percentuale_continente2,\n",
    "        f\"Minimo {continente3}\": minimo_continente3,\n",
    "        f\"Massimo {continente3}\": massimo_continente3,\n",
    "        f\"Media {continente3}\": media_continente3,\n",
    "        f\"Percentuale {continente3} rispetto al mondo\": percentuale_continente3,\n",
    "    }\n",
    "    \n",
    "    return risultati\n",
    "\n",
    "# Esempio di utilizzo della funzione\n",
    "risultati = confronta_descrittori(coviddata, 'Europe', 'South America', 'Asia')\n",
    "print(risultati)"
   ]
  },
  {
   "cell_type": "code",
   "execution_count": null,
   "metadata": {},
   "outputs": [],
   "source": [
    "def confronta_vaccinazioni(dataset, continente1, continente2, continente3):\n",
    "    # Calcola il numero totale di vaccinazioni nel mondo (inclusi quelli senza continente)\n",
    "    vaccinazioni_totali_mondo = coviddata['total_vaccinations'].sum()\n",
    "    \n",
    "    # Filtra il dataset per le vaccinazioni dei due continenti specificati\n",
    "    vaccinazioni_continente1 = coviddata[coviddata['continent'] == continente1]['total_vaccinations'].sum()\n",
    "    vaccinazioni_continente2 = coviddata[coviddata['continent'] == continente2]['total_vaccinations'].sum()\n",
    "    vaccinazioni_continente3 = coviddata[coviddata['continent'] == continente3]['total_vaccinations'].sum()\n",
    "    \n",
    "    # Crea un dizionario con i risultati\n",
    "    risultati_vac = {\n",
    "        f\"Vaccinazioni totali {continente1}\": vaccinazioni_continente1,\n",
    "        f\"Vaccinazioni totali {continente2}\": vaccinazioni_continente2,\n",
    "        f\"Vaccinazioni totali {continente3}\": vaccinazioni_continente3,\n",
    "\n",
    "    }\n",
    "    \n",
    "    return risultati_vac\n",
    "\n",
    "# Esempio di utilizzo della funzione\n",
    "risultati_vac = confronta_vaccinazioni(coviddata, 'Europe', 'Asia', 'South America')\n",
    "print(risultati_vac)\n"
   ]
  },
  {
   "cell_type": "code",
   "execution_count": null,
   "metadata": {},
   "outputs": [],
   "source": [
    "import matplotlib.pyplot as plt"
   ]
  },
  {
   "cell_type": "code",
   "execution_count": 44,
   "metadata": {},
   "outputs": [
    {
     "data": {
      "image/png": "[encoded data removed]",
      "text/plain": [
       "<Figure size 640x480 with 1 Axes>"
      ]
     },
     "metadata": {},
     "output_type": "display_data"
    }
   ],
   "source": [
    "def confronta_descrittori_e_visualizza(dataset, continente1, continente2):\n",
    "    # Calcola il numero totale di casi nel mondo (inclusi quelli senza continente)\n",
    "    casi_totali_mondo = coviddata['total_cases'].sum()\n",
    "    \n",
    "    # Filtra il dataset per i casi dei due continenti specificati\n",
    "    casi_continente1 = coviddata[coviddata['continent'] == continente1]['total_cases']\n",
    "    casi_continente2 = coviddata[coviddata['continent'] == continente2]['total_cases']\n",
    "    \n",
    "    # Calcola i descrittori statistici per ciascun continente\n",
    "    minimo_continente1 = casi_continente1.min()\n",
    "    massimo_continente1 = casi_continente1.max()\n",
    "    media_continente1 = casi_continente1.mean()\n",
    "    percentuale_continente1 = (casi_continente1.sum() / casi_totali_mondo) * 100\n",
    "    \n",
    "    minimo_continente2 = casi_continente2.min()\n",
    "    massimo_continente2 = casi_continente2.max()\n",
    "    media_continente2 = casi_continente2.mean()\n",
    "    percentuale_continente2 = (casi_continente2.sum() / casi_totali_mondo) * 100\n",
    "    \n",
    "    # Creare un grafico a barre per confrontare i risultati\n",
    "    descrittori = ['Minimo', 'Massimo', 'Media', 'Percentuale rispetto al mondo']\n",
    "    valori_continente1 = [minimo_continente1, massimo_continente1, media_continente1, percentuale_continente1]\n",
    "    valori_continente2 = [minimo_continente2, massimo_continente2, media_continente2, percentuale_continente2]\n",
    "    \n",
    "    larghezza_barre = 0.35\n",
    "    indici = range(len(descrittori))\n",
    "    \n",
    "    plt.bar(indici, valori_continente1, larghezza_barre, label=continente1)\n",
    "    plt.bar([i + larghezza_barre for i in indici], valori_continente2, larghezza_barre, label=continente2)\n",
    "    \n",
    "    plt.xlabel('Descrittori')\n",
    "    plt.ylabel('Valori')\n",
    "    plt.title('Confronto dei Descrittori tra Continenti')\n",
    "    plt.xticks([i + larghezza_barre / 2 for i in indici], descrittori)\n",
    "    plt.legend()\n",
    "    \n",
    "    plt.show()\n",
    "\n",
    "# Esempio di utilizzo della funzione\n",
    "\n",
    "confronta_descrittori_e_visualizza(coviddata, 'Europa', 'Asia')\n"
   ]
  },
  {
   "cell_type": "code",
   "execution_count": null,
   "metadata": {},
   "outputs": [],
   "source": [
    "\"\"\"\n",
    "In base alle interrogazio fatte, possiamo vedere come l'Asia sia stato il continente con più casi registrati, subito seguito dall'Europa,\n",
    "mentre il Sud America, risulta avere casi nettamente inferiori ai primi due continenti.\n",
    "\n",
    "Se osserserviamo le vaccinazioni, invece, notiamo che l'Europa è il continente con il numero più alto di vaccinazioni, mentre Asia risulta essere l'ultimo dei tre.\n",
    "\"\"\""
   ]
  }
 ],
 "metadata": {
  "kernelspec": {
   "display_name": "Python 3",
   "language": "python",
   "name": "python3"
  },
  "language_info": {
   "codemirror_mode": {
    "name": "ipython",
    "version": 3
   },
   "file_extension": ".py",
   "mimetype": "text/x-python",
   "name": "python",
   "nbconvert_exporter": "python",
   "pygments_lexer": "ipython3",
   "version": "3.11.5"
  },
  "orig_nbformat": 4
 },
 "nbformat": 4,
 "nbformat_minor": 2
}
